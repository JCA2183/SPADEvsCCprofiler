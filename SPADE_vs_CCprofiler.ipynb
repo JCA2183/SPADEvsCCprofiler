{
 "cells": [
  {
   "cell_type": "markdown",
   "id": "62ac7db6",
   "metadata": {},
   "source": [
    "# SPADE vs CCprofiler *peak_picking*"
   ]
  },
  {
   "cell_type": "markdown",
   "id": "2303207a",
   "metadata": {},
   "source": [
    "In this analysis we compared the differences in protein_peak recognition across the 40 fractions of a SEC-MS experiment, between SPADE and CCprofiler. The object protTraces from CCprofiler was used as the raw file to obtain the features of protein peaks in both pipelines (changing the format for SPADE). \n",
    "\n",
    "The following features were compared:\n",
    "+ Total number of peaks found\n",
    "+ Multiplicity of peaks per protein (Number of peaks per protein)\n",
    "+ Apex location of the peaks.\n",
    "+ Apex location variation coefficient\n",
    "+ Apex location correlation coefficient \n",
    "+ Apex intensity correlation coefficient\n",
    "+ Apex intensity variation coefficient\n",
    "+ Protein coverage\n",
    "+ Hypotheses complexes coverage\n"
   ]
  },
  {
   "cell_type": "markdown",
   "id": "cc3ed80a",
   "metadata": {},
   "source": [
    "### *Total number of peaks found*"
   ]
  },
  {
   "cell_type": "markdown",
   "id": "0593c49c",
   "metadata": {},
   "source": [
    "![](plots\\SPADE_vs_CCprofiler_peaks.png)"
   ]
  },
  {
   "cell_type": "markdown",
   "id": "f2586b88",
   "metadata": {},
   "source": [
    "### *Multiplicity of peaks per protein*"
   ]
  },
  {
   "cell_type": "markdown",
   "id": "f0e035a7",
   "metadata": {},
   "source": [
    "![](plots\\SPADE_vs_CCprofiler_multiplicity.png)"
   ]
  },
  {
   "cell_type": "markdown",
   "id": "fa11f7a8",
   "metadata": {},
   "source": [
    "This plot is considers the occurences recorded in all the 3 replicates and 2 times analized (10 min and 30 min)"
   ]
  },
  {
   "cell_type": "markdown",
   "id": "28afd994",
   "metadata": {},
   "source": [
    "### *Protein apex distributions*"
   ]
  },
  {
   "cell_type": "markdown",
   "id": "4226bac1",
   "metadata": {},
   "source": [
    "![](plots\\CCprofilervsSPADE_proteinapex_distribution.png)"
   ]
  },
  {
   "cell_type": "markdown",
   "id": "8eec685f",
   "metadata": {},
   "source": [
    "Using the apex values of all proteins and replicates in each time, the general distribution of the peak apexes is shown (mean, 25%,50%,75%,100%). A  Mann-Whitney test to compare the distributions of the groups was used. "
   ]
  },
  {
   "cell_type": "markdown",
   "id": "78de7105",
   "metadata": {},
   "source": [
    "### *Individual peak analysis*"
   ]
  },
  {
   "cell_type": "code",
   "execution_count": null,
   "id": "8c53caf1",
   "metadata": {},
   "outputs": [],
   "source": [
    "![]()"
   ]
  }
 ],
 "metadata": {
  "kernelspec": {
   "display_name": "intropython",
   "language": "python",
   "name": "python3"
  },
  "language_info": {
   "codemirror_mode": {
    "name": "ipython",
    "version": 3
   },
   "file_extension": ".py",
   "mimetype": "text/x-python",
   "name": "python",
   "nbconvert_exporter": "python",
   "pygments_lexer": "ipython3",
   "version": "3.13.5"
  }
 },
 "nbformat": 4,
 "nbformat_minor": 5
}
